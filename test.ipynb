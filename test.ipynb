{
 "cells": [
  {
   "cell_type": "code",
   "execution_count": 1,
   "metadata": {},
   "outputs": [],
   "source": [
    "from notion_client import Client\n",
    "import tweepy\n",
    "\n",
    "from lib import (\n",
    "    make_arxiv_translated_abstracts,\n",
    "    make_weather_forecast,\n",
    "    post_to_notion,\n",
    ")\n",
    "\n",
    "from config import (\n",
    "    DATABASE_ID,\n",
    "    NOTION_ACCESS_TOKEN,\n",
    "    TWITTER_ACCESS_TOKEN,\n",
    "    TWITTER_API_KEY,\n",
    "    TWITTER_API_SECRET,\n",
    "    TWITTER_BEARER_TOKEN,\n",
    "    TWITTER_TOKEN_SECRET,\n",
    "    TWITTER_USER_NAME,\n",
    "    ARXIV_CATEGORIES,\n",
    ")"
   ]
  },
  {
   "attachments": {},
   "cell_type": "markdown",
   "metadata": {},
   "source": [
    "## Set up"
   ]
  },
  {
   "cell_type": "code",
   "execution_count": 2,
   "metadata": {},
   "outputs": [],
   "source": [
    "notion_client = Client(auth=NOTION_ACCESS_TOKEN)\n",
    "twitter_client = tweepy.Client(\n",
    "    consumer_key=TWITTER_API_KEY,\n",
    "    consumer_secret=TWITTER_API_SECRET,\n",
    "    access_token=TWITTER_ACCESS_TOKEN,\n",
    "    access_token_secret=TWITTER_TOKEN_SECRET,\n",
    "    bearer_token=TWITTER_BEARER_TOKEN,\n",
    ")"
   ]
  },
  {
   "attachments": {},
   "cell_type": "markdown",
   "metadata": {},
   "source": [
    "## Weather"
   ]
  },
  {
   "cell_type": "code",
   "execution_count": 3,
   "metadata": {},
   "outputs": [],
   "source": [
    "weather_content = make_weather_forecast()"
   ]
  },
  {
   "attachments": {},
   "cell_type": "markdown",
   "metadata": {},
   "source": [
    "## Tweet from AK"
   ]
  },
  {
   "cell_type": "code",
   "execution_count": null,
   "metadata": {},
   "outputs": [],
   "source": [
    "arxiv_contents = make_arxiv_translated_abstracts(\n",
    "    client=twitter_client, categories=ARXIV_CATEGORIES\n",
    ")"
   ]
  },
  {
   "cell_type": "code",
   "execution_count": null,
   "metadata": {},
   "outputs": [],
   "source": [
    "contents = [weather_content] + arxiv_contents"
   ]
  },
  {
   "cell_type": "code",
   "execution_count": null,
   "metadata": {},
   "outputs": [],
   "source": [
    "post_to_notion(\n",
    "    notion_access_token=NOTION_ACCESS_TOKEN,\n",
    "    database_id=DATABASE_ID,\n",
    "    contents=contents,\n",
    ")"
   ]
  },
  {
   "cell_type": "code",
   "execution_count": null,
   "metadata": {},
   "outputs": [],
   "source": []
  }
 ],
 "metadata": {
  "kernelspec": {
   "display_name": "venv",
   "language": "python",
   "name": "python3"
  },
  "language_info": {
   "codemirror_mode": {
    "name": "ipython",
    "version": 3
   },
   "file_extension": ".py",
   "mimetype": "text/x-python",
   "name": "python",
   "nbconvert_exporter": "python",
   "pygments_lexer": "ipython3",
   "version": "3.9.11 (main, Dec 14 2022, 12:44:48) \n[Clang 14.0.0 (clang-1400.0.29.202)]"
  },
  "orig_nbformat": 4,
  "vscode": {
   "interpreter": {
    "hash": "3e06826a6dc00319fcdf17e2c2e73302988a84959f39bda7b7dd4c539b335eca"
   }
  }
 },
 "nbformat": 4,
 "nbformat_minor": 2
}
